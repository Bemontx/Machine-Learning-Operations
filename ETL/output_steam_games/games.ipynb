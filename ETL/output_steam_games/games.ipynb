{
 "cells": [
  {
   "cell_type": "code",
   "execution_count": 1,
   "metadata": {},
   "outputs": [],
   "source": [
    "import pandas as pd\n",
    "import json"
   ]
  },
  {
   "cell_type": "code",
   "execution_count": 5,
   "metadata": {},
   "outputs": [],
   "source": [
    "datos_json = []\n",
    "\n",
    "with open('./json/output_steam_games.json', 'r') as archivo:\n",
    "    for linea in archivo:\n",
    "        try:\n",
    "            objeto_json = json.loads(linea)\n",
    "            datos_json.append(objeto_json)\n",
    "        except json.JSONDecodeError as e:\n",
    "            print(f\"Error al cargar la línea: {e}\")"
   ]
  },
  {
   "cell_type": "code",
   "execution_count": 6,
   "metadata": {},
   "outputs": [
    {
     "data": {
      "text/html": [
       "<div>\n",
       "<style scoped>\n",
       "    .dataframe tbody tr th:only-of-type {\n",
       "        vertical-align: middle;\n",
       "    }\n",
       "\n",
       "    .dataframe tbody tr th {\n",
       "        vertical-align: top;\n",
       "    }\n",
       "\n",
       "    .dataframe thead th {\n",
       "        text-align: right;\n",
       "    }\n",
       "</style>\n",
       "<table border=\"1\" class=\"dataframe\">\n",
       "  <thead>\n",
       "    <tr style=\"text-align: right;\">\n",
       "      <th></th>\n",
       "      <th>publisher</th>\n",
       "      <th>genres</th>\n",
       "      <th>app_name</th>\n",
       "      <th>title</th>\n",
       "      <th>url</th>\n",
       "      <th>release_date</th>\n",
       "      <th>tags</th>\n",
       "      <th>reviews_url</th>\n",
       "      <th>specs</th>\n",
       "      <th>price</th>\n",
       "      <th>early_access</th>\n",
       "      <th>id</th>\n",
       "      <th>developer</th>\n",
       "    </tr>\n",
       "  </thead>\n",
       "  <tbody>\n",
       "    <tr>\n",
       "      <th>113159</th>\n",
       "      <td>NaN</td>\n",
       "      <td>[Casual, Simulation]</td>\n",
       "      <td>Rocksmith® 2014 – The Black Keys - “Your Touch”</td>\n",
       "      <td>Rocksmith® 2014 – The Black Keys - “Your Touch”</td>\n",
       "      <td>http://store.steampowered.com/app/390393/Rocks...</td>\n",
       "      <td>2015-11-24</td>\n",
       "      <td>[Casual, Simulation]</td>\n",
       "      <td>http://steamcommunity.com/app/390393/reviews/?...</td>\n",
       "      <td>[Single-player, Shared/Split Screen, Downloada...</td>\n",
       "      <td>2.99</td>\n",
       "      <td>False</td>\n",
       "      <td>390393</td>\n",
       "      <td>Ubisoft - San Francisco</td>\n",
       "    </tr>\n",
       "    <tr>\n",
       "      <th>78323</th>\n",
       "      <td>NaN</td>\n",
       "      <td>NaN</td>\n",
       "      <td>NaN</td>\n",
       "      <td>NaN</td>\n",
       "      <td>NaN</td>\n",
       "      <td>NaN</td>\n",
       "      <td>NaN</td>\n",
       "      <td>NaN</td>\n",
       "      <td>NaN</td>\n",
       "      <td>NaN</td>\n",
       "      <td>NaN</td>\n",
       "      <td>NaN</td>\n",
       "      <td>NaN</td>\n",
       "    </tr>\n",
       "    <tr>\n",
       "      <th>49890</th>\n",
       "      <td>NaN</td>\n",
       "      <td>NaN</td>\n",
       "      <td>NaN</td>\n",
       "      <td>NaN</td>\n",
       "      <td>NaN</td>\n",
       "      <td>NaN</td>\n",
       "      <td>NaN</td>\n",
       "      <td>NaN</td>\n",
       "      <td>NaN</td>\n",
       "      <td>NaN</td>\n",
       "      <td>NaN</td>\n",
       "      <td>NaN</td>\n",
       "      <td>NaN</td>\n",
       "    </tr>\n",
       "    <tr>\n",
       "      <th>80471</th>\n",
       "      <td>NaN</td>\n",
       "      <td>NaN</td>\n",
       "      <td>NaN</td>\n",
       "      <td>NaN</td>\n",
       "      <td>NaN</td>\n",
       "      <td>NaN</td>\n",
       "      <td>NaN</td>\n",
       "      <td>NaN</td>\n",
       "      <td>NaN</td>\n",
       "      <td>NaN</td>\n",
       "      <td>NaN</td>\n",
       "      <td>NaN</td>\n",
       "      <td>NaN</td>\n",
       "    </tr>\n",
       "    <tr>\n",
       "      <th>6107</th>\n",
       "      <td>NaN</td>\n",
       "      <td>NaN</td>\n",
       "      <td>NaN</td>\n",
       "      <td>NaN</td>\n",
       "      <td>NaN</td>\n",
       "      <td>NaN</td>\n",
       "      <td>NaN</td>\n",
       "      <td>NaN</td>\n",
       "      <td>NaN</td>\n",
       "      <td>NaN</td>\n",
       "      <td>NaN</td>\n",
       "      <td>NaN</td>\n",
       "      <td>NaN</td>\n",
       "    </tr>\n",
       "  </tbody>\n",
       "</table>\n",
       "</div>"
      ],
      "text/plain": [
       "       publisher                genres  \\\n",
       "113159       NaN  [Casual, Simulation]   \n",
       "78323        NaN                   NaN   \n",
       "49890        NaN                   NaN   \n",
       "80471        NaN                   NaN   \n",
       "6107         NaN                   NaN   \n",
       "\n",
       "                                               app_name  \\\n",
       "113159  Rocksmith® 2014 – The Black Keys - “Your Touch”   \n",
       "78323                                               NaN   \n",
       "49890                                               NaN   \n",
       "80471                                               NaN   \n",
       "6107                                                NaN   \n",
       "\n",
       "                                                  title  \\\n",
       "113159  Rocksmith® 2014 – The Black Keys - “Your Touch”   \n",
       "78323                                               NaN   \n",
       "49890                                               NaN   \n",
       "80471                                               NaN   \n",
       "6107                                                NaN   \n",
       "\n",
       "                                                      url release_date  \\\n",
       "113159  http://store.steampowered.com/app/390393/Rocks...   2015-11-24   \n",
       "78323                                                 NaN          NaN   \n",
       "49890                                                 NaN          NaN   \n",
       "80471                                                 NaN          NaN   \n",
       "6107                                                  NaN          NaN   \n",
       "\n",
       "                        tags  \\\n",
       "113159  [Casual, Simulation]   \n",
       "78323                    NaN   \n",
       "49890                    NaN   \n",
       "80471                    NaN   \n",
       "6107                     NaN   \n",
       "\n",
       "                                              reviews_url  \\\n",
       "113159  http://steamcommunity.com/app/390393/reviews/?...   \n",
       "78323                                                 NaN   \n",
       "49890                                                 NaN   \n",
       "80471                                                 NaN   \n",
       "6107                                                  NaN   \n",
       "\n",
       "                                                    specs price early_access  \\\n",
       "113159  [Single-player, Shared/Split Screen, Downloada...  2.99        False   \n",
       "78323                                                 NaN   NaN          NaN   \n",
       "49890                                                 NaN   NaN          NaN   \n",
       "80471                                                 NaN   NaN          NaN   \n",
       "6107                                                  NaN   NaN          NaN   \n",
       "\n",
       "            id                developer  \n",
       "113159  390393  Ubisoft - San Francisco  \n",
       "78323      NaN                      NaN  \n",
       "49890      NaN                      NaN  \n",
       "80471      NaN                      NaN  \n",
       "6107       NaN                      NaN  "
      ]
     },
     "execution_count": 6,
     "metadata": {},
     "output_type": "execute_result"
    }
   ],
   "source": [
    "df = pd.DataFrame(datos_json)\n",
    "df.sample(5)"
   ]
  },
  {
   "cell_type": "markdown",
   "metadata": {},
   "source": [
    "procedemos a correr una funcion que nos permita encontrar valores nulos y campos vacios en nuestro dataframe"
   ]
  },
  {
   "cell_type": "code",
   "execution_count": 7,
   "metadata": {},
   "outputs": [
    {
     "name": "stdout",
     "output_type": "stream",
     "text": [
      "<class 'pandas.core.frame.DataFrame'>\n",
      "RangeIndex: 120445 entries, 0 to 120444\n",
      "Data columns (total 13 columns):\n",
      " #   Column        Non-Null Count  Dtype \n",
      "---  ------        --------------  ----- \n",
      " 0   publisher     24083 non-null  object\n",
      " 1   genres        28852 non-null  object\n",
      " 2   app_name      32133 non-null  object\n",
      " 3   title         30085 non-null  object\n",
      " 4   url           32135 non-null  object\n",
      " 5   release_date  30068 non-null  object\n",
      " 6   tags          31972 non-null  object\n",
      " 7   reviews_url   32133 non-null  object\n",
      " 8   specs         31465 non-null  object\n",
      " 9   price         30758 non-null  object\n",
      " 10  early_access  32135 non-null  object\n",
      " 11  id            32133 non-null  object\n",
      " 12  developer     28836 non-null  object\n",
      "dtypes: object(13)\n",
      "memory usage: 11.9+ MB\n"
     ]
    }
   ],
   "source": [
    "df.info()"
   ]
  },
  {
   "cell_type": "markdown",
   "metadata": {},
   "source": [
    "corremos nuestra funcion para revisar campos nulos y vacios"
   ]
  },
  {
   "cell_type": "code",
   "execution_count": 8,
   "metadata": {},
   "outputs": [],
   "source": [
    "def analizar_datos(dataframe):\n",
    "    num_filas, num_columnas = dataframe.shape\n",
    "   \n",
    "    resultados = {}\n",
    "    \n",
    "    for columna in dataframe.columns:\n",
    "        nulos = dataframe[columna].isnull().sum()\n",
    "        vacios = dataframe[columna].apply(lambda x: x == '').sum()\n",
    "        \n",
    "        resultados[columna] = {\n",
    "            'filas_nulas': nulos,\n",
    "            'campos_vacios': vacios\n",
    "        }\n",
    "    \n",
    "    return resultados"
   ]
  },
  {
   "cell_type": "code",
   "execution_count": 9,
   "metadata": {},
   "outputs": [
    {
     "data": {
      "text/plain": [
       "{'publisher': {'filas_nulas': 96362, 'campos_vacios': 0},\n",
       " 'genres': {'filas_nulas': 91593, 'campos_vacios': 0},\n",
       " 'app_name': {'filas_nulas': 88312, 'campos_vacios': 0},\n",
       " 'title': {'filas_nulas': 90360, 'campos_vacios': 0},\n",
       " 'url': {'filas_nulas': 88310, 'campos_vacios': 0},\n",
       " 'release_date': {'filas_nulas': 90377, 'campos_vacios': 0},\n",
       " 'tags': {'filas_nulas': 88473, 'campos_vacios': 0},\n",
       " 'reviews_url': {'filas_nulas': 88312, 'campos_vacios': 0},\n",
       " 'specs': {'filas_nulas': 88980, 'campos_vacios': 0},\n",
       " 'price': {'filas_nulas': 89687, 'campos_vacios': 0},\n",
       " 'early_access': {'filas_nulas': 88310, 'campos_vacios': 0},\n",
       " 'id': {'filas_nulas': 88312, 'campos_vacios': 0},\n",
       " 'developer': {'filas_nulas': 91609, 'campos_vacios': 0}}"
      ]
     },
     "execution_count": 9,
     "metadata": {},
     "output_type": "execute_result"
    }
   ],
   "source": [
    "resultados_analisis = analizar_datos(df) \n",
    "resultados_analisis"
   ]
  },
  {
   "cell_type": "markdown",
   "metadata": {},
   "source": [
    "procederemos a evaluar columnas con campos iguales"
   ]
  },
  {
   "cell_type": "code",
   "execution_count": 10,
   "metadata": {},
   "outputs": [],
   "source": [
    "def verificar_duplicados(df, columna1, columna2):\n",
    "   return df.duplicated([columna1, columna2]).any()"
   ]
  },
  {
   "cell_type": "code",
   "execution_count": 11,
   "metadata": {},
   "outputs": [
    {
     "data": {
      "text/plain": [
       "True"
      ]
     },
     "execution_count": 11,
     "metadata": {},
     "output_type": "execute_result"
    }
   ],
   "source": [
    "resultado = verificar_duplicados(df, 'app_name', 'title')\n",
    "resultado"
   ]
  },
  {
   "cell_type": "code",
   "execution_count": 12,
   "metadata": {},
   "outputs": [
    {
     "data": {
      "text/plain": [
       "True"
      ]
     },
     "execution_count": 12,
     "metadata": {},
     "output_type": "execute_result"
    }
   ],
   "source": [
    "resultado = verificar_duplicados(df, 'url', 'reviews_url')\n",
    "resultado"
   ]
  },
  {
   "cell_type": "markdown",
   "metadata": {},
   "source": [
    "nos genera error las siguientes ya que estan los datos en tipos listas"
   ]
  },
  {
   "cell_type": "code",
   "execution_count": null,
   "metadata": {},
   "outputs": [],
   "source": [
    "# resultado = verificar_duplicados(df, 'genres', 'tags')\n",
    "# resultado"
   ]
  },
  {
   "cell_type": "markdown",
   "metadata": {},
   "source": [
    "procedemos a eliminar campos como Nan ya que hay demasiada cantidad de campos, para asi obtener un dataframe mucho mas claro y conciso"
   ]
  },
  {
   "cell_type": "code",
   "execution_count": 14,
   "metadata": {},
   "outputs": [],
   "source": [
    "df = df.dropna()"
   ]
  },
  {
   "cell_type": "markdown",
   "metadata": {},
   "source": [
    "procederemos a crear una funcion que nos permita eliminar caracteres no deseados en nuestro data y hacer algo de etl"
   ]
  },
  {
   "cell_type": "code",
   "execution_count": 15,
   "metadata": {},
   "outputs": [],
   "source": [
    "def limpiar_columnas(dataframe, columnas):\n",
    "    for columna in columnas:\n",
    "        # Convertir elementos de tipo lista a cadenas de texto\n",
    "        dataframe[columna] = dataframe[columna].apply(lambda x: ', '.join(x) if isinstance(x, list) else x)\n",
    "        \n",
    "        # Eliminar corchetes y convertir texto a minúsculas con la primera letra en mayúscula\n",
    "        dataframe[columna] = dataframe[columna].str.strip('[]').str.lower().str.capitalize()\n",
    "        \n",
    "    return dataframe"
   ]
  },
  {
   "cell_type": "code",
   "execution_count": 16,
   "metadata": {},
   "outputs": [
    {
     "name": "stderr",
     "output_type": "stream",
     "text": [
      "/tmp/ipykernel_5689/2676801907.py:4: SettingWithCopyWarning: \n",
      "A value is trying to be set on a copy of a slice from a DataFrame.\n",
      "Try using .loc[row_indexer,col_indexer] = value instead\n",
      "\n",
      "See the caveats in the documentation: https://pandas.pydata.org/pandas-docs/stable/user_guide/indexing.html#returning-a-view-versus-a-copy\n",
      "  dataframe[columna] = dataframe[columna].apply(lambda x: ', '.join(x) if isinstance(x, list) else x)\n",
      "/tmp/ipykernel_5689/2676801907.py:7: SettingWithCopyWarning: \n",
      "A value is trying to be set on a copy of a slice from a DataFrame.\n",
      "Try using .loc[row_indexer,col_indexer] = value instead\n",
      "\n",
      "See the caveats in the documentation: https://pandas.pydata.org/pandas-docs/stable/user_guide/indexing.html#returning-a-view-versus-a-copy\n",
      "  dataframe[columna] = dataframe[columna].str.strip('[]').str.lower().str.capitalize()\n"
     ]
    }
   ],
   "source": [
    "columnas = ['genres', 'tags','specs'] \n",
    "df = limpiar_columnas(df, columnas)"
   ]
  },
  {
   "cell_type": "markdown",
   "metadata": {},
   "source": [
    "se puede lograr analizar claramente que las columna app_name y title poseen los mismos valores\n",
    "\n",
    "procedemos a eliminar app-name"
   ]
  },
  {
   "cell_type": "code",
   "execution_count": 17,
   "metadata": {},
   "outputs": [],
   "source": [
    "df = df.drop('app_name', axis=1)"
   ]
  },
  {
   "cell_type": "markdown",
   "metadata": {},
   "source": [
    "empezaremos a convertir tipos de datos como id, release_date y price para que sean datos de mas facil manejo a la hora de trabajar las querys de nuestra API"
   ]
  },
  {
   "cell_type": "code",
   "execution_count": 18,
   "metadata": {},
   "outputs": [],
   "source": [
    "def limpiar_caracteres(dataframe, columnas):\n",
    "    caracteres_a_limpiar = [\"'\", '\"', ',', '.']\n",
    "    \n",
    "    for columna in columnas:\n",
    "        for caracter in caracteres_a_limpiar:\n",
    "            dataframe[columna] = dataframe[columna].replace(caracter, '', regex=True)\n",
    "    \n",
    "    return dataframe"
   ]
  },
  {
   "cell_type": "code",
   "execution_count": 19,
   "metadata": {},
   "outputs": [],
   "source": [
    "columnas = ['price'] \n",
    "df = limpiar_caracteres(df, columnas)"
   ]
  },
  {
   "cell_type": "code",
   "execution_count": 20,
   "metadata": {},
   "outputs": [
    {
     "data": {
      "text/plain": [
       "array([4.99, '', 0.99, 3.99, 18.99, 29.99, 10.99, 2.99, 1.59, 14.99, 1.99,\n",
       "       59.99, 9.99, 6.99, 7.99, 39.99, 19.99, 7.49, 8.99, 12.99, 5.99,\n",
       "       2.49, 15.99, 1.25, 24.99, 17.99, 61.99, 3.49, 11.99, 13.99, 34.99,\n",
       "       1.49, 32.99, 99.99, 14.95, 69.99, 16.99, 79.99, 49.99, 13.98,\n",
       "       149.99, 771.71, 21.99, 89.99, 0.98, 139.92, 4.29, 54.99, 64.99,\n",
       "       74.99, 0.89, 0.5, 299.99, 1.29, 119.99, 44.99, 3.0, 15.0, 1.39,\n",
       "       2.0, 4.0, 1.95, 1.5, 6.66, 26.99, 399.99, 31.99, 20.0, 40.0, 5.0,\n",
       "       3.33, 38.85, 71.7, 995.0, 5.49, 27.49, 3.39, 6.0, 19.95, 20.99,\n",
       "       499.99, 27.99, 199.99, 4.68, 131.4, 44.98, 202.76, 2.3, 0.95,\n",
       "       36.99, 172.24, 249.99, 2.97, 10.96, 2.66, 6.48, 10.0, 1.0, 11.15,\n",
       "       49.0, 199.0, 99.0, 87.94, 0.49, 9.98, 9.95, 12.89, 6.49, 1.87,\n",
       "       41.99, 4.49, 289.99, 23.96, 5.65, 12.0, 129.99, 23.99, 13.37,\n",
       "       189.96, 59.95, 160.91], dtype=object)"
      ]
     },
     "execution_count": 20,
     "metadata": {},
     "output_type": "execute_result"
    }
   ],
   "source": [
    "df['price'].unique()"
   ]
  },
  {
   "cell_type": "code",
   "execution_count": 21,
   "metadata": {},
   "outputs": [],
   "source": [
    "df['price'] = pd.to_numeric(df['price'], errors='coerce')\n",
    "df['price'].fillna(0, inplace=True)"
   ]
  },
  {
   "cell_type": "code",
   "execution_count": 33,
   "metadata": {},
   "outputs": [],
   "source": [
    "df.to_parquet('output_steam_games.parquet')\n",
    "df = pd.read_parquet('./parquet/output_steam_games.parquet')"
   ]
  },
  {
   "cell_type": "code",
   "execution_count": 52,
   "metadata": {},
   "outputs": [
    {
     "name": "stdout",
     "output_type": "stream",
     "text": [
      "<class 'pandas.core.frame.DataFrame'>\n",
      "Index: 22530 entries, 88310 to 120443\n",
      "Data columns (total 12 columns):\n",
      " #   Column        Non-Null Count  Dtype  \n",
      "---  ------        --------------  -----  \n",
      " 0   publisher     22530 non-null  object \n",
      " 1   genres        22530 non-null  object \n",
      " 2   title         22530 non-null  object \n",
      " 3   url           22530 non-null  object \n",
      " 4   release_date  22530 non-null  object \n",
      " 5   tags          22530 non-null  object \n",
      " 6   reviews_url   22530 non-null  object \n",
      " 7   specs         22530 non-null  object \n",
      " 8   price         22530 non-null  float64\n",
      " 9   early_access  22530 non-null  bool   \n",
      " 10  id            22530 non-null  object \n",
      " 11  developer     22530 non-null  object \n",
      "dtypes: bool(1), float64(1), object(10)\n",
      "memory usage: 2.1+ MB\n"
     ]
    }
   ],
   "source": [
    "df.info()"
   ]
  },
  {
   "cell_type": "markdown",
   "metadata": {},
   "source": [
    "corremos una funcion para repasar espacios en blanco entre las cadenas"
   ]
  },
  {
   "cell_type": "code",
   "execution_count": 34,
   "metadata": {},
   "outputs": [],
   "source": [
    "def limpiar_columnas(df):\n",
    "    for columna in df.columns:\n",
    "        if df[columna].dtype == 'object': \n",
    "            df[columna] = df[columna].str.strip() \n",
    "            df[columna] = df[columna].str.replace('\"', '').str.replace(\"'\", '')  \n",
    "            df[columna] = df[columna].str.lower().str.capitalize()  \n",
    "    \n",
    "    return df"
   ]
  },
  {
   "cell_type": "code",
   "execution_count": 35,
   "metadata": {},
   "outputs": [],
   "source": [
    "df = limpiar_columnas(df)"
   ]
  },
  {
   "cell_type": "code",
   "execution_count": 62,
   "metadata": {},
   "outputs": [],
   "source": [
    "import numpy as np\n",
    "\n",
    "def comprobar(df):\n",
    "    duplicados = df[df.duplicated(keep=False)]\n",
    "    vacios = df.apply(lambda x: (x.astype(str).str.strip() == '').any() if x.dtype == 'object' else False, axis=0)\n",
    "    \n",
    "    valores_nulos = df.isnull().sum()\n",
    "    valores_nan = df.isna().sum()\n",
    "\n",
    "    return {\n",
    "        'duplicados': duplicados,\n",
    "        'campos_vacios': vacios,\n",
    "        'valores_nulos': valores_nulos,\n",
    "        'valores_nan': valores_nan\n",
    "    }"
   ]
  },
  {
   "cell_type": "code",
   "execution_count": 63,
   "metadata": {},
   "outputs": [
    {
     "data": {
      "text/plain": [
       "{'duplicados': Empty DataFrame\n",
       " Columns: [publisher, genres, title, url, release_date, tags, reviews_url, specs, price, early_access, id, developer]\n",
       " Index: [],\n",
       " 'campos_vacios': publisher       False\n",
       " genres          False\n",
       " title           False\n",
       " url             False\n",
       " release_date    False\n",
       " tags            False\n",
       " reviews_url     False\n",
       " specs           False\n",
       " price           False\n",
       " early_access    False\n",
       " id              False\n",
       " developer       False\n",
       " dtype: bool,\n",
       " 'valores_nulos': publisher       0\n",
       " genres          0\n",
       " title           0\n",
       " url             0\n",
       " release_date    0\n",
       " tags            0\n",
       " reviews_url     0\n",
       " specs           0\n",
       " price           0\n",
       " early_access    0\n",
       " id              0\n",
       " developer       0\n",
       " dtype: int64,\n",
       " 'valores_nan': publisher       0\n",
       " genres          0\n",
       " title           0\n",
       " url             0\n",
       " release_date    0\n",
       " tags            0\n",
       " reviews_url     0\n",
       " specs           0\n",
       " price           0\n",
       " early_access    0\n",
       " id              0\n",
       " developer       0\n",
       " dtype: int64}"
      ]
     },
     "execution_count": 63,
     "metadata": {},
     "output_type": "execute_result"
    }
   ],
   "source": [
    "resultado = comprobar(df)\n",
    "resultado"
   ]
  },
  {
   "cell_type": "code",
   "execution_count": 72,
   "metadata": {},
   "outputs": [
    {
     "data": {
      "text/html": [
       "<div>\n",
       "<style scoped>\n",
       "    .dataframe tbody tr th:only-of-type {\n",
       "        vertical-align: middle;\n",
       "    }\n",
       "\n",
       "    .dataframe tbody tr th {\n",
       "        vertical-align: top;\n",
       "    }\n",
       "\n",
       "    .dataframe thead th {\n",
       "        text-align: right;\n",
       "    }\n",
       "</style>\n",
       "<table border=\"1\" class=\"dataframe\">\n",
       "  <thead>\n",
       "    <tr style=\"text-align: right;\">\n",
       "      <th></th>\n",
       "      <th>publisher</th>\n",
       "      <th>genres</th>\n",
       "      <th>title</th>\n",
       "      <th>url</th>\n",
       "      <th>release_date</th>\n",
       "      <th>tags</th>\n",
       "      <th>reviews_url</th>\n",
       "      <th>specs</th>\n",
       "      <th>price</th>\n",
       "      <th>early_access</th>\n",
       "      <th>id</th>\n",
       "      <th>developer</th>\n",
       "    </tr>\n",
       "  </thead>\n",
       "  <tbody>\n",
       "    <tr>\n",
       "      <th>109608</th>\n",
       "      <td>Thought ops llc</td>\n",
       "      <td>Action, adventure, casual, free to play, indie...</td>\n",
       "      <td>Rescue bear operation</td>\n",
       "      <td>Http://store.steampowered.com/app/513210/rescu...</td>\n",
       "      <td>2016-09-29</td>\n",
       "      <td>Early access, free to play, indie, action, adv...</td>\n",
       "      <td>Http://steamcommunity.com/app/513210/reviews/?...</td>\n",
       "      <td>Single-player, steam achievements, full contro...</td>\n",
       "      <td>0.00</td>\n",
       "      <td>True</td>\n",
       "      <td>513210</td>\n",
       "      <td>Cascade game foundry</td>\n",
       "    </tr>\n",
       "    <tr>\n",
       "      <th>101584</th>\n",
       "      <td>Mcleodgaming inc., world entertainment studios...</td>\n",
       "      <td>Action, indie, strategy</td>\n",
       "      <td>Yeah jam fury: u, me, everybody!</td>\n",
       "      <td>Http://store.steampowered.com/app/633930/yeah_...</td>\n",
       "      <td>2017-12-15</td>\n",
       "      <td>Strategy, action, indie, puzzle-platformer, pl...</td>\n",
       "      <td>Http://steamcommunity.com/app/633930/reviews/?...</td>\n",
       "      <td>Single-player, local co-op, steam achievements...</td>\n",
       "      <td>11.99</td>\n",
       "      <td>False</td>\n",
       "      <td>633930</td>\n",
       "      <td>World entertainment studios, llc,mcleodgaming ...</td>\n",
       "    </tr>\n",
       "    <tr>\n",
       "      <th>114610</th>\n",
       "      <td>Snk corporation</td>\n",
       "      <td>Action</td>\n",
       "      <td>Metal slug</td>\n",
       "      <td>Http://store.steampowered.com/app/366250/metal...</td>\n",
       "      <td>2015-06-25</td>\n",
       "      <td>Action, arcade, 2d, side scroller, shoot em up...</td>\n",
       "      <td>Http://steamcommunity.com/app/366250/reviews/?...</td>\n",
       "      <td>Single-player, multi-player, co-op, steam achi...</td>\n",
       "      <td>7.99</td>\n",
       "      <td>False</td>\n",
       "      <td>366250</td>\n",
       "      <td>Dotemu</td>\n",
       "    </tr>\n",
       "    <tr>\n",
       "      <th>89689</th>\n",
       "      <td>Born ready games</td>\n",
       "      <td>Action, indie, simulation</td>\n",
       "      <td>Strike suit zero heroes of the fleet dlc</td>\n",
       "      <td>Http://store.steampowered.com/app/209548/strik...</td>\n",
       "      <td>2013-05-20</td>\n",
       "      <td>Action, indie, simulation</td>\n",
       "      <td>Http://steamcommunity.com/app/209548/reviews/?...</td>\n",
       "      <td>Single-player, downloadable content, steam ach...</td>\n",
       "      <td>6.99</td>\n",
       "      <td>False</td>\n",
       "      <td>209548</td>\n",
       "      <td>Born ready games ltd.</td>\n",
       "    </tr>\n",
       "    <tr>\n",
       "      <th>106941</th>\n",
       "      <td>Nexon america</td>\n",
       "      <td>Adventure, free to play, massively multiplayer...</td>\n",
       "      <td>Riders of icarus - heroic veiled corruption pa...</td>\n",
       "      <td>Http://store.steampowered.com/app/606320/rider...</td>\n",
       "      <td>2017-03-22</td>\n",
       "      <td>Adventure, free to play, rpg, massively multip...</td>\n",
       "      <td>Http://steamcommunity.com/app/606320/reviews/?...</td>\n",
       "      <td>Single-player, multi-player, online multi-play...</td>\n",
       "      <td>29.99</td>\n",
       "      <td>False</td>\n",
       "      <td>606320</td>\n",
       "      <td>Wemade</td>\n",
       "    </tr>\n",
       "  </tbody>\n",
       "</table>\n",
       "</div>"
      ],
      "text/plain": [
       "                                                publisher  \\\n",
       "109608                                    Thought ops llc   \n",
       "101584  Mcleodgaming inc., world entertainment studios...   \n",
       "114610                                    Snk corporation   \n",
       "89689                                    Born ready games   \n",
       "106941                                      Nexon america   \n",
       "\n",
       "                                                   genres  \\\n",
       "109608  Action, adventure, casual, free to play, indie...   \n",
       "101584                            Action, indie, strategy   \n",
       "114610                                             Action   \n",
       "89689                           Action, indie, simulation   \n",
       "106941  Adventure, free to play, massively multiplayer...   \n",
       "\n",
       "                                                    title  \\\n",
       "109608                              Rescue bear operation   \n",
       "101584                   Yeah jam fury: u, me, everybody!   \n",
       "114610                                         Metal slug   \n",
       "89689            Strike suit zero heroes of the fleet dlc   \n",
       "106941  Riders of icarus - heroic veiled corruption pa...   \n",
       "\n",
       "                                                      url release_date  \\\n",
       "109608  Http://store.steampowered.com/app/513210/rescu...   2016-09-29   \n",
       "101584  Http://store.steampowered.com/app/633930/yeah_...   2017-12-15   \n",
       "114610  Http://store.steampowered.com/app/366250/metal...   2015-06-25   \n",
       "89689   Http://store.steampowered.com/app/209548/strik...   2013-05-20   \n",
       "106941  Http://store.steampowered.com/app/606320/rider...   2017-03-22   \n",
       "\n",
       "                                                     tags  \\\n",
       "109608  Early access, free to play, indie, action, adv...   \n",
       "101584  Strategy, action, indie, puzzle-platformer, pl...   \n",
       "114610  Action, arcade, 2d, side scroller, shoot em up...   \n",
       "89689                           Action, indie, simulation   \n",
       "106941  Adventure, free to play, rpg, massively multip...   \n",
       "\n",
       "                                              reviews_url  \\\n",
       "109608  Http://steamcommunity.com/app/513210/reviews/?...   \n",
       "101584  Http://steamcommunity.com/app/633930/reviews/?...   \n",
       "114610  Http://steamcommunity.com/app/366250/reviews/?...   \n",
       "89689   Http://steamcommunity.com/app/209548/reviews/?...   \n",
       "106941  Http://steamcommunity.com/app/606320/reviews/?...   \n",
       "\n",
       "                                                    specs  price  \\\n",
       "109608  Single-player, steam achievements, full contro...   0.00   \n",
       "101584  Single-player, local co-op, steam achievements...  11.99   \n",
       "114610  Single-player, multi-player, co-op, steam achi...   7.99   \n",
       "89689   Single-player, downloadable content, steam ach...   6.99   \n",
       "106941  Single-player, multi-player, online multi-play...  29.99   \n",
       "\n",
       "        early_access      id  \\\n",
       "109608          True  513210   \n",
       "101584         False  633930   \n",
       "114610         False  366250   \n",
       "89689          False  209548   \n",
       "106941         False  606320   \n",
       "\n",
       "                                                developer  \n",
       "109608                               Cascade game foundry  \n",
       "101584  World entertainment studios, llc,mcleodgaming ...  \n",
       "114610                                             Dotemu  \n",
       "89689                               Born ready games ltd.  \n",
       "106941                                             Wemade  "
      ]
     },
     "execution_count": 72,
     "metadata": {},
     "output_type": "execute_result"
    }
   ],
   "source": [
    "df.sample(5)"
   ]
  },
  {
   "cell_type": "code",
   "execution_count": 73,
   "metadata": {},
   "outputs": [],
   "source": [
    "# df.to_parquet('output_steam_games.parquet')"
   ]
  }
 ],
 "metadata": {
  "kernelspec": {
   "display_name": "venv",
   "language": "python",
   "name": "python3"
  },
  "language_info": {
   "codemirror_mode": {
    "name": "ipython",
    "version": 3
   },
   "file_extension": ".py",
   "mimetype": "text/x-python",
   "name": "python",
   "nbconvert_exporter": "python",
   "pygments_lexer": "ipython3",
   "version": "3.10.12"
  }
 },
 "nbformat": 4,
 "nbformat_minor": 2
}
