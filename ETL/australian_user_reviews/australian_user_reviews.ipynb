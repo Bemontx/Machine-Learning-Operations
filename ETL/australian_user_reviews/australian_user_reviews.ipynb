{
 "cells": [
  {
   "cell_type": "code",
   "execution_count": 1,
   "metadata": {},
   "outputs": [],
   "source": [
    "import pandas as pd"
   ]
  },
  {
   "cell_type": "code",
   "execution_count": 5,
   "metadata": {},
   "outputs": [],
   "source": [
    "with open('./json/australian_user_reviews.json','r') as read:\n",
    "    data = read.readlines()\n",
    "\n",
    "data = [eval(i) for i in data]\n",
    "df = pd.DataFrame(data)"
   ]
  },
  {
   "cell_type": "code",
   "execution_count": 7,
   "metadata": {},
   "outputs": [
    {
     "data": {
      "text/html": [
       "<div>\n",
       "<style scoped>\n",
       "    .dataframe tbody tr th:only-of-type {\n",
       "        vertical-align: middle;\n",
       "    }\n",
       "\n",
       "    .dataframe tbody tr th {\n",
       "        vertical-align: top;\n",
       "    }\n",
       "\n",
       "    .dataframe thead th {\n",
       "        text-align: right;\n",
       "    }\n",
       "</style>\n",
       "<table border=\"1\" class=\"dataframe\">\n",
       "  <thead>\n",
       "    <tr style=\"text-align: right;\">\n",
       "      <th></th>\n",
       "      <th>user_id</th>\n",
       "      <th>user_url</th>\n",
       "      <th>reviews</th>\n",
       "    </tr>\n",
       "  </thead>\n",
       "  <tbody>\n",
       "    <tr>\n",
       "      <th>0</th>\n",
       "      <td>76561197970982479</td>\n",
       "      <td>http://steamcommunity.com/profiles/76561197970...</td>\n",
       "      <td>[{'funny': '', 'posted': 'Posted November 5, 2...</td>\n",
       "    </tr>\n",
       "    <tr>\n",
       "      <th>1</th>\n",
       "      <td>js41637</td>\n",
       "      <td>http://steamcommunity.com/id/js41637</td>\n",
       "      <td>[{'funny': '', 'posted': 'Posted June 24, 2014...</td>\n",
       "    </tr>\n",
       "    <tr>\n",
       "      <th>2</th>\n",
       "      <td>evcentric</td>\n",
       "      <td>http://steamcommunity.com/id/evcentric</td>\n",
       "      <td>[{'funny': '', 'posted': 'Posted February 3.',...</td>\n",
       "    </tr>\n",
       "    <tr>\n",
       "      <th>3</th>\n",
       "      <td>doctr</td>\n",
       "      <td>http://steamcommunity.com/id/doctr</td>\n",
       "      <td>[{'funny': '', 'posted': 'Posted October 14, 2...</td>\n",
       "    </tr>\n",
       "    <tr>\n",
       "      <th>4</th>\n",
       "      <td>maplemage</td>\n",
       "      <td>http://steamcommunity.com/id/maplemage</td>\n",
       "      <td>[{'funny': '3 people found this review funny',...</td>\n",
       "    </tr>\n",
       "  </tbody>\n",
       "</table>\n",
       "</div>"
      ],
      "text/plain": [
       "             user_id                                           user_url  \\\n",
       "0  76561197970982479  http://steamcommunity.com/profiles/76561197970...   \n",
       "1            js41637               http://steamcommunity.com/id/js41637   \n",
       "2          evcentric             http://steamcommunity.com/id/evcentric   \n",
       "3              doctr                 http://steamcommunity.com/id/doctr   \n",
       "4          maplemage             http://steamcommunity.com/id/maplemage   \n",
       "\n",
       "                                             reviews  \n",
       "0  [{'funny': '', 'posted': 'Posted November 5, 2...  \n",
       "1  [{'funny': '', 'posted': 'Posted June 24, 2014...  \n",
       "2  [{'funny': '', 'posted': 'Posted February 3.',...  \n",
       "3  [{'funny': '', 'posted': 'Posted October 14, 2...  \n",
       "4  [{'funny': '3 people found this review funny',...  "
      ]
     },
     "execution_count": 7,
     "metadata": {},
     "output_type": "execute_result"
    }
   ],
   "source": [
    "df.head(5)"
   ]
  },
  {
   "cell_type": "code",
   "execution_count": null,
   "metadata": {},
   "outputs": [],
   "source": [
    "#aplanamos datos de nuestra columna reviews\n",
    "df = pd.json_normalize(df['reviews'].explode()).reset_index(drop=True)"
   ]
  },
  {
   "cell_type": "code",
   "execution_count": 10,
   "metadata": {},
   "outputs": [
    {
     "name": "stdout",
     "output_type": "stream",
     "text": [
      "<class 'pandas.core.frame.DataFrame'>\n",
      "RangeIndex: 59333 entries, 0 to 59332\n",
      "Data columns (total 7 columns):\n",
      " #   Column       Non-Null Count  Dtype \n",
      "---  ------       --------------  ----- \n",
      " 0   funny        59305 non-null  object\n",
      " 1   posted       59305 non-null  object\n",
      " 2   last_edited  59305 non-null  object\n",
      " 3   item_id      59305 non-null  object\n",
      " 4   helpful      59305 non-null  object\n",
      " 5   recommend    59305 non-null  object\n",
      " 6   review       59305 non-null  object\n",
      "dtypes: object(7)\n",
      "memory usage: 3.2+ MB\n"
     ]
    }
   ],
   "source": [
    "df.info()"
   ]
  },
  {
   "cell_type": "markdown",
   "metadata": {},
   "source": [
    "usamos funcion para comporbar campos nulos y vacios de nuestra data"
   ]
  },
  {
   "cell_type": "code",
   "execution_count": 11,
   "metadata": {},
   "outputs": [],
   "source": [
    "#funcion donde se comprueban valores nulos de las columnas\n",
    "def analizar_datos(dataframe):\n",
    "    num_filas, num_columnas = dataframe.shape\n",
    "   \n",
    "    resultados = {}\n",
    "    \n",
    "    for columna in dataframe.columns:\n",
    "        nulos = dataframe[columna].isnull().sum()\n",
    "        vacios = dataframe[columna].apply(lambda x: x == '').sum()\n",
    "        \n",
    "        resultados[columna] = {\n",
    "            'filas_nulas': nulos,\n",
    "            'campos_vacios': vacios\n",
    "        }\n",
    "    \n",
    "    return resultados"
   ]
  },
  {
   "cell_type": "code",
   "execution_count": 12,
   "metadata": {},
   "outputs": [
    {
     "data": {
      "text/plain": [
       "{'funny': {'filas_nulas': 28, 'campos_vacios': 51154},\n",
       " 'posted': {'filas_nulas': 28, 'campos_vacios': 0},\n",
       " 'last_edited': {'filas_nulas': 28, 'campos_vacios': 53165},\n",
       " 'item_id': {'filas_nulas': 28, 'campos_vacios': 0},\n",
       " 'helpful': {'filas_nulas': 28, 'campos_vacios': 0},\n",
       " 'recommend': {'filas_nulas': 28, 'campos_vacios': 0},\n",
       " 'review': {'filas_nulas': 28, 'campos_vacios': 30}}"
      ]
     },
     "execution_count": 12,
     "metadata": {},
     "output_type": "execute_result"
    }
   ],
   "source": [
    "resultados_analisis = analizar_datos(df) \n",
    "resultados_analisis"
   ]
  },
  {
   "cell_type": "markdown",
   "metadata": {},
   "source": [
    "se observa demasiada cantidad de camposvacios en funny y last-edited\n",
    "\n",
    "porcederemos a trabajar la columna posted ya que presenta unos valores que serian un desafio trabjar querys con ciertos parametros, correremos una funcion que nos permita depurar la palabra postede de nuestras filas"
   ]
  },
  {
   "cell_type": "code",
   "execution_count": 15,
   "metadata": {},
   "outputs": [],
   "source": [
    "#remplazamos valores y limipar espacios en blanco\n",
    "def limpiar_posted(texto):\n",
    "    if isinstance(texto, str):\n",
    "        texto_limpio = texto.replace('Posted', '').replace(',', '').replace('.', '').strip()\n",
    "        return texto_limpio\n",
    "    return texto"
   ]
  },
  {
   "cell_type": "code",
   "execution_count": 16,
   "metadata": {},
   "outputs": [],
   "source": [
    "df['posted'] = df['posted'].apply(limpiar_posted)"
   ]
  },
  {
   "cell_type": "markdown",
   "metadata": {},
   "source": [
    "se ve mucho mas claro pero hay varias filas con campos sin la fecha completa, se va realizar un analisis estadistico para poder asignar una fecha a esos campos y no eliminar data"
   ]
  },
  {
   "cell_type": "code",
   "execution_count": 33,
   "metadata": {},
   "outputs": [
    {
     "data": {
      "text/html": [
       "<div>\n",
       "<style scoped>\n",
       "    .dataframe tbody tr th:only-of-type {\n",
       "        vertical-align: middle;\n",
       "    }\n",
       "\n",
       "    .dataframe tbody tr th {\n",
       "        vertical-align: top;\n",
       "    }\n",
       "\n",
       "    .dataframe thead th {\n",
       "        text-align: right;\n",
       "    }\n",
       "</style>\n",
       "<table border=\"1\" class=\"dataframe\">\n",
       "  <thead>\n",
       "    <tr style=\"text-align: right;\">\n",
       "      <th></th>\n",
       "      <th>funny</th>\n",
       "      <th>posted</th>\n",
       "      <th>last_edited</th>\n",
       "      <th>item_id</th>\n",
       "      <th>helpful</th>\n",
       "      <th>recommend</th>\n",
       "      <th>review</th>\n",
       "    </tr>\n",
       "  </thead>\n",
       "  <tbody>\n",
       "    <tr>\n",
       "      <th>count</th>\n",
       "      <td>59305</td>\n",
       "      <td>59305</td>\n",
       "      <td>59305</td>\n",
       "      <td>59305</td>\n",
       "      <td>59305</td>\n",
       "      <td>59305</td>\n",
       "      <td>59305</td>\n",
       "    </tr>\n",
       "    <tr>\n",
       "      <th>unique</th>\n",
       "      <td>186</td>\n",
       "      <td>1906</td>\n",
       "      <td>1015</td>\n",
       "      <td>3682</td>\n",
       "      <td>1344</td>\n",
       "      <td>2</td>\n",
       "      <td>55313</td>\n",
       "    </tr>\n",
       "    <tr>\n",
       "      <th>top</th>\n",
       "      <td></td>\n",
       "      <td>June 21 2014</td>\n",
       "      <td></td>\n",
       "      <td>730</td>\n",
       "      <td>No ratings yet</td>\n",
       "      <td>True</td>\n",
       "      <td>good game</td>\n",
       "    </tr>\n",
       "    <tr>\n",
       "      <th>freq</th>\n",
       "      <td>51154</td>\n",
       "      <td>225</td>\n",
       "      <td>53165</td>\n",
       "      <td>3759</td>\n",
       "      <td>30168</td>\n",
       "      <td>52473</td>\n",
       "      <td>100</td>\n",
       "    </tr>\n",
       "  </tbody>\n",
       "</table>\n",
       "</div>"
      ],
      "text/plain": [
       "        funny        posted last_edited item_id         helpful recommend  \\\n",
       "count   59305         59305       59305   59305           59305     59305   \n",
       "unique    186          1906        1015    3682            1344         2   \n",
       "top            June 21 2014                 730  No ratings yet      True   \n",
       "freq    51154           225       53165    3759           30168     52473   \n",
       "\n",
       "           review  \n",
       "count       59305  \n",
       "unique      55313  \n",
       "top     good game  \n",
       "freq          100  "
      ]
     },
     "execution_count": 33,
     "metadata": {},
     "output_type": "execute_result"
    }
   ],
   "source": [
    "df.describe()"
   ]
  },
  {
   "cell_type": "markdown",
   "metadata": {},
   "source": [
    "en el top se que el 2014 es la fecha mas frecuente por lo que tomo la decision de asignarle esa fecha a los campos que no la posean para seguir conservanfo info en vez de eliminar"
   ]
  },
  {
   "cell_type": "code",
   "execution_count": 71,
   "metadata": {},
   "outputs": [],
   "source": [
    "#convertimos a datime la columna  creada para asignarle el anio 2014\n",
    "def extraer_fecha(fecha):\n",
    "    try:\n",
    "        if pd.isnull(fecha):\n",
    "            return None, None, None\n",
    "        fecha_dt = pd.to_datetime(str(fecha) + ' 2014', errors='raise')\n",
    "        return fecha_dt.year, fecha_dt.month, fecha_dt.day\n",
    "    except ValueError:\n",
    "        try:\n",
    "            fecha_dt = pd.to_datetime(str(fecha) + ' 2014', errors='coerce')\n",
    "            return fecha_dt.year, fecha_dt.month, fecha_dt.day\n",
    "        except (ValueError, AttributeError):\n",
    "            return None, None, None\n",
    "\n",
    "df['year'], df['month'], df['day'] = zip(*df['posted'].map(extraer_fecha))\n",
    "\n",
    "df['month'] = df['month'].astype(pd.Int64Dtype())\n",
    "df['day'] = df['day'].astype(pd.Int64Dtype())\n",
    "df['year'] = df['year'].astype(pd.Int64Dtype())"
   ]
  },
  {
   "cell_type": "code",
   "execution_count": 72,
   "metadata": {},
   "outputs": [],
   "source": [
    "anio_mas_frecuente = df['year'].mode()[0]\n",
    "df['year'].fillna(anio_mas_frecuente, inplace=True)"
   ]
  },
  {
   "cell_type": "code",
   "execution_count": 76,
   "metadata": {},
   "outputs": [
    {
     "data": {
      "text/plain": [
       "funny          28\n",
       "posted         28\n",
       "last_edited    28\n",
       "item_id        28\n",
       "helpful        28\n",
       "recommend      28\n",
       "review         28\n",
       "year            0\n",
       "month          53\n",
       "day            53\n",
       "dtype: int64"
      ]
     },
     "execution_count": 76,
     "metadata": {},
     "output_type": "execute_result"
    }
   ],
   "source": [
    "df.isnull().sum()"
   ]
  },
  {
   "cell_type": "markdown",
   "metadata": {},
   "source": [
    "ahora procedemos a unificar la info recolpilada en una sola columna y depurar las columnas creadas anteriormente, son my pocos datos nulos, viendo la canmtidad a proceder eliminarlos no afectaran nuestra data"
   ]
  },
  {
   "cell_type": "code",
   "execution_count": 77,
   "metadata": {},
   "outputs": [],
   "source": [
    "#transformaos la nueva columna y procedemos a eliminar las creadas anteriormente\n",
    "df['new_posted'] = pd.to_datetime(df[['year', 'month', 'day']], errors='coerce')\n",
    "df.drop(columns=['year', 'month', 'day','posted'], inplace=True)"
   ]
  },
  {
   "cell_type": "markdown",
   "metadata": {},
   "source": [
    "- 'funny': {'filas_nulas': 28, 'campos_vacios': 51154},\n",
    "- 'last_edited': {'filas_nulas': 28, 'campos_vacios': 53165}\n",
    "\n",
    "al poseer tantos campos vacios y no tener mucha info para asignarle a estos campos se procede a depurar estas columnas y transformamos nuestra columna id para que sea mas facil trabajar consultas con id tipo integer"
   ]
  },
  {
   "cell_type": "code",
   "execution_count": 105,
   "metadata": {},
   "outputs": [],
   "source": [
    "df.drop(columns=['funny', 'last_edited'], inplace=True)"
   ]
  },
  {
   "cell_type": "code",
   "execution_count": null,
   "metadata": {},
   "outputs": [],
   "source": [
    "df['price'] = pd.to_numeric(df['price'], errors='coerce')"
   ]
  },
  {
   "cell_type": "code",
   "execution_count": 5,
   "metadata": {},
   "outputs": [],
   "source": [
    "df['item_id'] = df['item_id'].astype(str)"
   ]
  },
  {
   "cell_type": "code",
   "execution_count": 6,
   "metadata": {},
   "outputs": [
    {
     "name": "stdout",
     "output_type": "stream",
     "text": [
      "<class 'pandas.core.frame.DataFrame'>\n",
      "Index: 59280 entries, 0 to 59332\n",
      "Data columns (total 6 columns):\n",
      " #   Column              Non-Null Count  Dtype         \n",
      "---  ------              --------------  -----         \n",
      " 0   item_id             59280 non-null  object        \n",
      " 1   helpful             59280 non-null  object        \n",
      " 2   recommend           59280 non-null  bool          \n",
      " 3   review              59280 non-null  object        \n",
      " 4   new_posted          59280 non-null  datetime64[ns]\n",
      " 5   sentiment_analysis  59280 non-null  int64         \n",
      "dtypes: bool(1), datetime64[ns](1), int64(1), object(3)\n",
      "memory usage: 2.8+ MB\n"
     ]
    }
   ],
   "source": [
    "df.info()"
   ]
  },
  {
   "cell_type": "markdown",
   "metadata": {},
   "source": [
    "empezaremos a trabajar la columna review ya que poseen muchs campos con caracteres no deseados como emojis, con una funcion que nos permitar instanciar nuestras columnas"
   ]
  },
  {
   "cell_type": "code",
   "execution_count": 133,
   "metadata": {},
   "outputs": [],
   "source": [
    "import re\n",
    "\n",
    "def limpiar_review(texto):\n",
    "    texto_limpio = texto.replace(\"'\", \"\").replace('\"', '')\n",
    "    texto_limpio = texto_limpio.lower().capitalize()\n",
    "    texto_limpio = re.sub(r'[^a-zA-Z\\s.,!?]', '', texto_limpio)\n",
    "    return texto_limpio"
   ]
  },
  {
   "cell_type": "code",
   "execution_count": 134,
   "metadata": {},
   "outputs": [],
   "source": [
    "df['review'] = df['review'].apply(limpiar_review)"
   ]
  },
  {
   "cell_type": "markdown",
   "metadata": {},
   "source": [
    "verificamos nuestros campos con nuestra funcion anterior"
   ]
  },
  {
   "cell_type": "code",
   "execution_count": 164,
   "metadata": {},
   "outputs": [
    {
     "data": {
      "text/plain": [
       "{'item_id': {'filas_nulas': 0, 'campos_vacios': 0},\n",
       " 'helpful': {'filas_nulas': 0, 'campos_vacios': 0},\n",
       " 'recommend': {'filas_nulas': 0, 'campos_vacios': 0},\n",
       " 'review': {'filas_nulas': 0, 'campos_vacios': 773},\n",
       " 'new_posted': {'filas_nulas': 0, 'campos_vacios': 0},\n",
       " 'sentiment_analysis': {'filas_nulas': 0, 'campos_vacios': 0}}"
      ]
     },
     "execution_count": 164,
     "metadata": {},
     "output_type": "execute_result"
    }
   ],
   "source": [
    "resultados_analisis = analizar_datos(df) \n",
    "resultados_analisis"
   ]
  },
  {
   "cell_type": "markdown",
   "metadata": {},
   "source": [
    "hay 773 campos vacios en nuestra columna reviews pero no transformaremos esos campos, nos guiaremos con nuestra columna recommend par seguir nuestras quuery, y empezaremos a realizar nuestro modelo de entranamiento para nuestra columna sentiment-analysis"
   ]
  },
  {
   "cell_type": "code",
   "execution_count": 167,
   "metadata": {},
   "outputs": [
    {
     "name": "stderr",
     "output_type": "stream",
     "text": [
      "[nltk_data] Downloading package vader_lexicon to\n",
      "[nltk_data]     /home/bemontx/nltk_data...\n"
     ]
    },
    {
     "data": {
      "text/plain": [
       "True"
      ]
     },
     "execution_count": 167,
     "metadata": {},
     "output_type": "execute_result"
    }
   ],
   "source": [
    "import nltk\n",
    "from nltk.sentiment import SentimentIntensityAnalyzer\n",
    "nltk.download('vader_lexicon')"
   ]
  },
  {
   "cell_type": "markdown",
   "metadata": {},
   "source": [
    "instanciamos nuestro modelo"
   ]
  },
  {
   "cell_type": "code",
   "execution_count": 168,
   "metadata": {},
   "outputs": [],
   "source": [
    "sia = SentimentIntensityAnalyzer()"
   ]
  },
  {
   "cell_type": "markdown",
   "metadata": {},
   "source": [
    "creamos una funcion "
   ]
  },
  {
   "cell_type": "code",
   "execution_count": 172,
   "metadata": {},
   "outputs": [],
   "source": [
    "def analizar_sentimiento(texto):\n",
    "    if not texto:  # Si no hay texto presente, devolver neutral (1)\n",
    "        return 1\n",
    "    sentiment_score = sia.polarity_scores(texto)['compound']\n",
    "    if sentiment_score > 0.05:  # Si el sentimiento es positivo\n",
    "        return 2\n",
    "    elif -0.05 <= sentiment_score <= 0.05:  # Si el sentimiento es neutral\n",
    "        return 1\n",
    "    else:  # Si el sentimiento es negativo\n",
    "        return 0\n",
    "\n",
    "df['sentiment_analysis'] = df['review'].apply(analizar_sentimiento)"
   ]
  },
  {
   "cell_type": "markdown",
   "metadata": {},
   "source": [
    "valores en la columna sentiment_analysis\n",
    "- 0 negativo\n",
    "- 1 neutral\n",
    "- 2 positivo"
   ]
  },
  {
   "cell_type": "code",
   "execution_count": 16,
   "metadata": {},
   "outputs": [
    {
     "data": {
      "text/html": [
       "<div>\n",
       "<style scoped>\n",
       "    .dataframe tbody tr th:only-of-type {\n",
       "        vertical-align: middle;\n",
       "    }\n",
       "\n",
       "    .dataframe tbody tr th {\n",
       "        vertical-align: top;\n",
       "    }\n",
       "\n",
       "    .dataframe thead th {\n",
       "        text-align: right;\n",
       "    }\n",
       "</style>\n",
       "<table border=\"1\" class=\"dataframe\">\n",
       "  <thead>\n",
       "    <tr style=\"text-align: right;\">\n",
       "      <th></th>\n",
       "      <th>item_id</th>\n",
       "      <th>helpful</th>\n",
       "      <th>recommend</th>\n",
       "      <th>review</th>\n",
       "      <th>new_posted</th>\n",
       "      <th>sentiment_analysis</th>\n",
       "    </tr>\n",
       "  </thead>\n",
       "  <tbody>\n",
       "    <tr>\n",
       "      <th>22069</th>\n",
       "      <td>263320</td>\n",
       "      <td>No ratings yet</td>\n",
       "      <td>True</td>\n",
       "      <td>Koolzorthis game is so good and yeah. it is ju...</td>\n",
       "      <td>2015-03-14</td>\n",
       "      <td>2</td>\n",
       "    </tr>\n",
       "    <tr>\n",
       "      <th>25644</th>\n",
       "      <td>4000</td>\n",
       "      <td>1 of 1 people (100%) found this review helpful</td>\n",
       "      <td>True</td>\n",
       "      <td>This is most likely one of the greatest sandbo...</td>\n",
       "      <td>2014-10-18</td>\n",
       "      <td>2</td>\n",
       "    </tr>\n",
       "    <tr>\n",
       "      <th>21756</th>\n",
       "      <td>440</td>\n",
       "      <td>No ratings yet</td>\n",
       "      <td>True</td>\n",
       "      <td>Its the greatest hat simulator of all time! to...</td>\n",
       "      <td>2015-02-18</td>\n",
       "      <td>2</td>\n",
       "    </tr>\n",
       "    <tr>\n",
       "      <th>11055</th>\n",
       "      <td>17500</td>\n",
       "      <td>No ratings yet</td>\n",
       "      <td>True</td>\n",
       "      <td>Es un juego muy bueno quizas no tenga los mejo...</td>\n",
       "      <td>2014-05-04</td>\n",
       "      <td>0</td>\n",
       "    </tr>\n",
       "    <tr>\n",
       "      <th>17002</th>\n",
       "      <td>384021</td>\n",
       "      <td>2 of 5 people (40%) found this review helpful</td>\n",
       "      <td>True</td>\n",
       "      <td>Made a cloaker puke.take that loser! haha!you ...</td>\n",
       "      <td>2015-07-17</td>\n",
       "      <td>0</td>\n",
       "    </tr>\n",
       "  </tbody>\n",
       "</table>\n",
       "</div>"
      ],
      "text/plain": [
       "      item_id                                         helpful  recommend  \\\n",
       "22069  263320                                  No ratings yet       True   \n",
       "25644    4000  1 of 1 people (100%) found this review helpful       True   \n",
       "21756     440                                  No ratings yet       True   \n",
       "11055   17500                                  No ratings yet       True   \n",
       "17002  384021   2 of 5 people (40%) found this review helpful       True   \n",
       "\n",
       "                                                  review new_posted  \\\n",
       "22069  Koolzorthis game is so good and yeah. it is ju... 2015-03-14   \n",
       "25644  This is most likely one of the greatest sandbo... 2014-10-18   \n",
       "21756  Its the greatest hat simulator of all time! to... 2015-02-18   \n",
       "11055  Es un juego muy bueno quizas no tenga los mejo... 2014-05-04   \n",
       "17002  Made a cloaker puke.take that loser! haha!you ... 2015-07-17   \n",
       "\n",
       "       sentiment_analysis  \n",
       "22069                   2  \n",
       "25644                   2  \n",
       "21756                   2  \n",
       "11055                   0  \n",
       "17002                   0  "
      ]
     },
     "execution_count": 16,
     "metadata": {},
     "output_type": "execute_result"
    }
   ],
   "source": [
    "df.sample(5)"
   ]
  },
  {
   "cell_type": "code",
   "execution_count": 2,
   "metadata": {},
   "outputs": [],
   "source": [
    "df = pd.read_parquet('./parquet/australian_user_reviews.parquet')"
   ]
  },
  {
   "cell_type": "code",
   "execution_count": 11,
   "metadata": {},
   "outputs": [
    {
     "name": "stdout",
     "output_type": "stream",
     "text": [
      "<class 'pandas.core.frame.DataFrame'>\n",
      "Index: 59280 entries, 0 to 59332\n",
      "Data columns (total 6 columns):\n",
      " #   Column              Non-Null Count  Dtype         \n",
      "---  ------              --------------  -----         \n",
      " 0   item_id             59280 non-null  object        \n",
      " 1   helpful             59280 non-null  object        \n",
      " 2   recommend           59280 non-null  bool          \n",
      " 3   review              59280 non-null  object        \n",
      " 4   new_posted          59280 non-null  datetime64[ns]\n",
      " 5   sentiment_analysis  59280 non-null  int64         \n",
      "dtypes: bool(1), datetime64[ns](1), int64(1), object(3)\n",
      "memory usage: 2.8+ MB\n"
     ]
    }
   ],
   "source": [
    "df.info()"
   ]
  },
  {
   "cell_type": "code",
   "execution_count": 10,
   "metadata": {},
   "outputs": [],
   "source": [
    "# df.to_parquet('australian_user_reviews.parquet')"
   ]
  }
 ],
 "metadata": {
  "kernelspec": {
   "display_name": "venv",
   "language": "python",
   "name": "python3"
  },
  "language_info": {
   "codemirror_mode": {
    "name": "ipython",
    "version": 3
   },
   "file_extension": ".py",
   "mimetype": "text/x-python",
   "name": "python",
   "nbconvert_exporter": "python",
   "pygments_lexer": "ipython3",
   "version": "3.10.12"
  }
 },
 "nbformat": 4,
 "nbformat_minor": 2
}
